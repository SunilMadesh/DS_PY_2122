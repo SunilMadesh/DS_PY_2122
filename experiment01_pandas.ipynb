{
  "nbformat": 4,
  "nbformat_minor": 0,
  "metadata": {
    "colab": {
      "name": "experiment01-pandas.ipynb",
      "provenance": [],
      "include_colab_link": true
    },
    "kernelspec": {
      "name": "python3",
      "display_name": "Python 3"
    },
    "language_info": {
      "name": "python"
    }
  },
  "cells": [
    {
      "cell_type": "markdown",
      "metadata": {
        "id": "view-in-github",
        "colab_type": "text"
      },
      "source": [
        "<a href=\"https://colab.research.google.com/github/SunilMadesh/DS_PY_2122/blob/main/experiment01_pandas.ipynb\" target=\"_parent\"><img src=\"https://colab.research.google.com/assets/colab-badge.svg\" alt=\"Open In Colab\"/></a>"
      ]
    },
    {
      "cell_type": "markdown",
      "source": [
        "**Experiment No :** 01\n",
        "\n",
        "**Aim :** Learn basics of Pandas library for Reading and Preprocessing any external data into python execution pipeline.\n",
        "\n",
        "**Theory :**  Pandas is a Python library used for working with data sets. It has functions for analyzing, cleaning, exploring, and manipulating data. \n",
        "\n",
        "The name *Pandas* has a reference to both *Panel Data*, and *Python Data Analysis* and was created by **Wes McKinney in 2008.**\n",
        "Pandas allows us to analyze big data and make conclusions based on statistical theories. Pandas can **clean** messy data sets, and make them **readable and relevant.** Relevant data is very important in any successful data science pipeline.\n"
      ],
      "metadata": {
        "id": "eTOpwleUjhEc"
      }
    },
    {
      "cell_type": "code",
      "execution_count": null,
      "metadata": {
        "id": "CuQPR7SfZiMW"
      },
      "outputs": [],
      "source": [
        "#importing pandas library\n",
        "import pandas as pd"
      ]
    },
    {
      "cell_type": "code",
      "source": [
        "#checking pandas version\n",
        "print(pd.__version__)"
      ],
      "metadata": {
        "id": "n6nuAEy3eU3w"
      },
      "execution_count": null,
      "outputs": []
    },
    {
      "cell_type": "code",
      "source": [
        "#Create dataset\n",
        "mydataset  =   {  \n",
        "'cars': [\"BMW\", \"Volvo\", \"Ford\"],  'year': [1999, 2007, 2012]\n",
        "}\n",
        "myvar = pd.DataFrame(mydataset)\n",
        "print(myvar)"
      ],
      "metadata": {
        "id": "dbuE_IyheBQs"
      },
      "execution_count": null,
      "outputs": []
    },
    {
      "cell_type": "code",
      "source": [
        "mydataset2 = [12,14,15,18,20,20,19,16,15,13]\n",
        "myvar2 =pd.DataFrame(data=mydataset2)\n",
        "print(myvar2)"
      ],
      "metadata": {
        "id": "92y12pVDK4P8"
      },
      "execution_count": null,
      "outputs": []
    },
    {
      "cell_type": "code",
      "source": [
        "#  Figure out how to add index as 10:20 for rows  ???     Students need to complete this\n",
        "mydataset3 = [12,14,15,18,20,20,19,16,15,13]\n",
        "index=range(10,20)\n",
        "myvar3 =pd.DataFrame(data=mydataset2,columns=[\"Temp\"],index=index)\n",
        "print(myvar3)"
      ],
      "metadata": {
        "id": "xo1z0espMTCC"
      },
      "execution_count": null,
      "outputs": []
    },
    {
      "cell_type": "code",
      "source": [
        "#code to mount Google Drive where you miht have your data\n",
        "from google.colab import drive\n",
        "drive.mount('/content/drive')"
      ],
      "metadata": {
        "id": "Esf8J4lFZv8a"
      },
      "execution_count": null,
      "outputs": []
    },
    {
      "cell_type": "code",
      "source": [
        "# We expect data.csv to be placed at shown folder  (students should adjust it as needed)\n",
        "path=\"/content/drive/MyDrive/AIDS1 /datasets/data.csv\"\n",
        "df=pd.read_csv(path)\n",
        "#df"
      ],
      "metadata": {
        "id": "Au8N3Qj5ZrI2"
      },
      "execution_count": null,
      "outputs": []
    },
    {
      "cell_type": "code",
      "source": [
        "#List first 5 records\n",
        "df.head()"
      ],
      "metadata": {
        "id": "2An9sjUcenX2"
      },
      "execution_count": null,
      "outputs": []
    },
    {
      "cell_type": "code",
      "source": [
        "#List first 10 records\n",
        "df.head(10)"
      ],
      "metadata": {
        "id": "8S5054tweuGk"
      },
      "execution_count": null,
      "outputs": []
    },
    {
      "cell_type": "markdown",
      "source": [
        "Try to read:\n",
        "1.  First 20 records\n",
        "2.  First 50 records\n",
        "3.  Last 10 records\n",
        "4.  Last 50 records\n"
      ],
      "metadata": {
        "id": "SaMbIB5VfBN0"
      }
    },
    {
      "cell_type": "code",
      "source": [
        "#Solve Above\n",
        "df.tail(10)"
      ],
      "metadata": {
        "id": "qOhMDvlOe9xt"
      },
      "execution_count": null,
      "outputs": []
    },
    {
      "cell_type": "markdown",
      "source": [
        "Try to read:\n",
        "\n",
        "1. Records from row nuumber 20 to 30\n",
        "2. Records from last 10th to 20th row numbers"
      ],
      "metadata": {
        "id": "I5zabdMFWHqT"
      }
    },
    {
      "cell_type": "code",
      "source": [
        "#Hint\n",
        "df.head(30).tail(10)"
      ],
      "metadata": {
        "id": "mg1K0hjKWqNL"
      },
      "execution_count": null,
      "outputs": []
    },
    {
      "cell_type": "code",
      "source": [
        "#solve Above"
      ],
      "metadata": {
        "id": "kaDXQnmQWlVd"
      },
      "execution_count": null,
      "outputs": []
    },
    {
      "cell_type": "code",
      "source": [
        "#Solve Above"
      ],
      "metadata": {
        "id": "d5F035Mdfap0"
      },
      "execution_count": null,
      "outputs": []
    },
    {
      "cell_type": "code",
      "source": [
        "# Describes numeric columns only with respect to different statistics\n",
        "df.describe()"
      ],
      "metadata": {
        "id": "cTpG-FfJaMdS"
      },
      "execution_count": null,
      "outputs": []
    },
    {
      "cell_type": "code",
      "source": [
        "path=\"/content/drive/MyDrive/AIDS1 /datasets/employees.csv\"\n",
        "df1=pd.read_csv(path)"
      ],
      "metadata": {
        "id": "__Ud_A7sYv9H"
      },
      "execution_count": null,
      "outputs": []
    },
    {
      "cell_type": "code",
      "source": [
        "df1.head(10)"
      ],
      "metadata": {
        "id": "CB7x89kxZF1n"
      },
      "execution_count": null,
      "outputs": []
    },
    {
      "cell_type": "code",
      "source": [
        "df1.describe()"
      ],
      "metadata": {
        "id": "3vs1V483ZCOG"
      },
      "execution_count": null,
      "outputs": []
    },
    {
      "cell_type": "code",
      "source": [
        "df1.isnull()"
      ],
      "metadata": {
        "id": "dMCbLyANaWku"
      },
      "execution_count": null,
      "outputs": []
    },
    {
      "cell_type": "code",
      "source": [
        "pd.isnull(df1['Team'])"
      ],
      "metadata": {
        "id": "8KplV6FAaZXH"
      },
      "execution_count": null,
      "outputs": []
    },
    {
      "cell_type": "code",
      "source": [
        "pd.notnull(df1['Team'])"
      ],
      "metadata": {
        "id": "Yl0XXZSBalGp"
      },
      "execution_count": null,
      "outputs": []
    },
    {
      "cell_type": "code",
      "source": [
        "df1.fillna(\"HOME\")"
      ],
      "metadata": {
        "id": "7K16IFvdasC_"
      },
      "execution_count": null,
      "outputs": []
    },
    {
      "cell_type": "code",
      "source": [
        "df1.fillna(method='pad')"
      ],
      "metadata": {
        "id": "leGK_E6Ea4CB"
      },
      "execution_count": null,
      "outputs": []
    },
    {
      "cell_type": "code",
      "source": [
        "df1.fillna(method='bfill')"
      ],
      "metadata": {
        "id": "EymnBQFLbBfa"
      },
      "execution_count": null,
      "outputs": []
    },
    {
      "cell_type": "code",
      "source": [
        "df1['Gender'].fillna(\"No Gender\",inplace=True)  # Notice inplace flag to modify the original data frame\n",
        "df1"
      ],
      "metadata": {
        "id": "C2-omoW0bOZx"
      },
      "execution_count": null,
      "outputs": []
    },
    {
      "cell_type": "code",
      "source": [
        "import numpy as np\n",
        "df.replace(to_replace=np.nan, value=\"KGCE\")"
      ],
      "metadata": {
        "id": "w0dsf6kId169"
      },
      "execution_count": null,
      "outputs": []
    },
    {
      "cell_type": "code",
      "source": [
        "df.interpolate(method='linear',limit_direction='forward')"
      ],
      "metadata": {
        "id": "cLZN99aEta6c"
      },
      "execution_count": null,
      "outputs": []
    },
    {
      "cell_type": "markdown",
      "source": [
        "**Explain following**\n",
        "\n",
        "Q1. What is role of isnull, notnull functions in data preprocessing ?\n",
        "\n",
        "Q2. When will you use fillna method in data preprocessing step?\n",
        "\n",
        "Q3. What does parameter inplace=True means ?\n",
        "\n",
        "Q4. Name and Explain any three values that method parameter may have in fillna method."
      ],
      "metadata": {
        "id": "2U_2tYjDmumy"
      }
    },
    {
      "cell_type": "markdown",
      "source": [
        ""
      ],
      "metadata": {
        "id": "FYWqZyUXOyH-"
      }
    },
    {
      "cell_type": "markdown",
      "source": [
        "Q5. Create a excel file containing 4 real numeric columns latitude, longitude, avg_temp, avg_humidity. Added manually 30 reocords and save file as weather.csv Upload this to your google drive and load it into a python variable weather_info. Show all statistical properties of the columns in this data set."
      ],
      "metadata": {
        "id": "RFIsQNpbpG0R"
      }
    },
    {
      "cell_type": "code",
      "source": [
        "#type and execute code to complete above task "
      ],
      "metadata": {
        "id": "N_ilVbX4pKY-"
      },
      "execution_count": null,
      "outputs": []
    },
    {
      "cell_type": "markdown",
      "source": [
        "**Conclusion :** Thus we have learned about Pandas library ysed for data preprocessing in data science project."
      ],
      "metadata": {
        "id": "Cch1rCpppQ6-"
      }
    }
  ]
}